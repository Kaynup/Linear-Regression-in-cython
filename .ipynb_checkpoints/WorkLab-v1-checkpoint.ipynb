{
 "cells": [
  {
   "cell_type": "raw",
   "id": "f7107c97-079e-4cd6-b0cb-86492de1196d",
   "metadata": {},
   "source": [
    "Author: Punyak\n",
    "LICENSE: MIT License"
   ]
  },
  {
   "cell_type": "markdown",
   "id": "34cb0e96-9873-41f9-85a1-7204afbd2ccd",
   "metadata": {},
   "source": [
    "# Testing v1"
   ]
  },
  {
   "cell_type": "code",
   "execution_count": 2,
   "id": "9f5c8a30-2de7-48ec-adaf-7b5eceb23df7",
   "metadata": {},
   "outputs": [],
   "source": [
    "import LR_v1\n",
    "from LR_v1 import LinearRegressor\n",
    "\n",
    "from sklearn.linear_model import LinearRegression\n",
    "import numpy as np\n",
    "import random\n",
    "import matplotlib.pyplot as plt\n",
    "import itertools\n",
    "import time"
   ]
  },
  {
   "cell_type": "code",
   "execution_count": 3,
   "id": "091e002c-c9ec-4774-afce-678b3e575f6f",
   "metadata": {},
   "outputs": [
    {
     "data": {
      "text/plain": [
       "['LinearRegressor',\n",
       " '__all__',\n",
       " '__builtins__',\n",
       " '__cached__',\n",
       " '__doc__',\n",
       " '__file__',\n",
       " '__loader__',\n",
       " '__name__',\n",
       " '__package__',\n",
       " '__path__',\n",
       " '__spec__',\n",
       " '__version__',\n",
       " 'linear_regressor']"
      ]
     },
     "execution_count": 3,
     "metadata": {},
     "output_type": "execute_result"
    }
   ],
   "source": [
    "dir(LR_v1)"
   ]
  },
  {
   "cell_type": "raw",
   "id": "7bc4d6ea-c5d8-40c0-91ce-cddc332d0f6d",
   "metadata": {},
   "source": [
    "Let's plot it on ranging data to see where our cython function falls and numpy shines"
   ]
  },
  {
   "cell_type": "code",
   "execution_count": null,
   "id": "d35ea16f-2ee2-47b8-b9be-8ff46920b3d4",
   "metadata": {},
   "outputs": [
    {
     "name": "stdout",
     "output_type": "stream",
     "text": [
      "\n",
      "Benchmarking for n_features = 10\n",
      "Samples:    100 | Cython:   0.015 ms | Sklearn:   1.322 ms\n",
      "Samples:   1000 | Cython:   0.154 ms | Sklearn:   3.667 ms\n",
      "Samples:   5000 | Cython:   0.958 ms | Sklearn:   3.994 ms\n",
      "Samples:  10000 | Cython:   1.512 ms | Sklearn:   4.921 ms\n",
      "Samples:  50000 | Cython:  17.086 ms | Sklearn:  25.455 ms\n",
      "Samples: 100000 | Cython:  31.764 ms | Sklearn:  51.960 ms\n",
      "Samples: 500000 | Cython: 281.507 ms | Sklearn: 271.439 ms\n",
      "Samples: 1000000 | Cython: 538.007 ms | Sklearn: 648.668 ms\n"
     ]
    }
   ],
   "source": [
    "random.seed(42)\n",
    "\n",
    "def generate_data(n_samples, n_features):\n",
    "    \"\"\"\n",
    "    Generate linear data: y = sum(weights * x_i) + noise\n",
    "    Weights: 1, 2, ..., n_features\n",
    "    \"\"\"\n",
    "    X = []\n",
    "    y = []\n",
    "    weights = list(range(1, n_features + 1))\n",
    "    \n",
    "    for _ in range(n_samples):\n",
    "        features = [random.uniform(-10, 10) for _ in range(n_features)]\n",
    "        noise = random.uniform(-0.5, 0.5)\n",
    "        label = sum(w * x for w, x in zip(weights, features)) + noise\n",
    "        X.append(features)\n",
    "        y.append(label)\n",
    "        \n",
    "    return X, y\n",
    "\n",
    "def benchmark():\n",
    "    sizes = [100, 1000, 5000, 10000, 50000, 100000, 500000, 1000000, 5000000, 10000000]\n",
    "    feature_counts = [10]\n",
    "    \n",
    "    results = {}  # {(n_features): (sizes, cython_times, sklearn_times)}\n",
    "    \n",
    "    for n_features in feature_counts:\n",
    "        cython_times = []\n",
    "        sklearn_times = []\n",
    "        \n",
    "        print(f\"\\nBenchmarking for n_features = {n_features}\")\n",
    "        \n",
    "        for size in sizes:\n",
    "            X, y = generate_data(size, n_features)\n",
    "\n",
    "            # Cython Timing (simulated here using sklearn for placeholder)\n",
    "            start = time.time()\n",
    "            model_1 = LinearRegressor().fit(X, y)\n",
    "            cython_times.append((time.time() - start) * 1e3)  # ms\n",
    "\n",
    "            # Sklearn Timing\n",
    "            start = time.time()\n",
    "            model_2 = LinearRegression(fit_intercept=False).fit(X, y)\n",
    "            sklearn_times.append((time.time() - start) * 1e3)  # ms\n",
    "\n",
    "            print(f\"Samples: {size:6d} | Cython: {cython_times[-1]:7.3f} ms | Sklearn: {sklearn_times[-1]:7.3f} ms\")\n",
    "        \n",
    "        results[n_features] = (sizes, cython_times, sklearn_times)\n",
    "        \n",
    "    return results\n",
    "\n",
    "def plot_by_features(results):\n",
    "    plt.figure(figsize=(12, 6))\n",
    "    \n",
    "    color_cycle = itertools.cycle(plt.cm.tab10.colors)  # Use matplotlib color cycle\n",
    "\n",
    "    for n_features, (sizes, cy_times, sk_times) in results.items():\n",
    "        color = next(color_cycle)\n",
    "        \n",
    "        plt.plot(sizes, cy_times, '-', color=color, label=f'Cython (f={n_features})')\n",
    "        plt.plot(sizes, sk_times, '--', color=color, label=f'Sklearn (f={n_features})')\n",
    "        \n",
    "    plt.title(\"Performance vs Samples for Various Feature Counts\")\n",
    "    plt.xlabel(\"Number of Samples\")\n",
    "    plt.ylabel(\"Time (ms, log scale)\")\n",
    "    plt.yscale('log')\n",
    "    plt.grid(True, which='both', linestyle='--', alpha=0.7)\n",
    "    plt.legend()\n",
    "    plt.tight_layout()\n",
    "    plt.show()\n",
    "\n",
    "# Run Benchmarking and Plot\n",
    "results = benchmark()\n",
    "plot_by_features(results)"
   ]
  },
  {
   "cell_type": "code",
   "execution_count": null,
   "id": "dad99eb6-d574-4cdf-b878-5948e90d7bca",
   "metadata": {},
   "outputs": [],
   "source": []
  }
 ],
 "metadata": {
  "kernelspec": {
   "display_name": "Python 3 (ipykernel)",
   "language": "python",
   "name": "python3"
  },
  "language_info": {
   "codemirror_mode": {
    "name": "ipython",
    "version": 3
   },
   "file_extension": ".py",
   "mimetype": "text/x-python",
   "name": "python",
   "nbconvert_exporter": "python",
   "pygments_lexer": "ipython3",
   "version": "3.10.18"
  }
 },
 "nbformat": 4,
 "nbformat_minor": 5
}
